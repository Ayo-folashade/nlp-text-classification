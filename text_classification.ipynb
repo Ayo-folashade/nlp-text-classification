{
  "nbformat": 4,
  "nbformat_minor": 0,
  "metadata": {
    "colab": {
      "provenance": []
    },
    "kernelspec": {
      "name": "python3",
      "display_name": "Python 3"
    },
    "language_info": {
      "name": "python"
    },
    "accelerator": "GPU",
    "gpuClass": "standard"
  },
  "cells": [
    {
      "cell_type": "markdown",
      "source": [
        "# **Data Loading and Preparation**"
      ],
      "metadata": {
        "id": "pkUVMSEUkpuL"
      }
    },
    {
      "cell_type": "code",
      "execution_count": 8,
      "metadata": {
        "id": "vpLB7IE8IVU4",
        "colab": {
          "base_uri": "https://localhost:8080/",
          "height": 223
        },
        "outputId": "e3a411f4-b150-4a08-cae3-643e10b8ecc3"
      },
      "outputs": [
        {
          "output_type": "stream",
          "name": "stdout",
          "text": [
            "Drive already mounted at /content/drive; to attempt to forcibly remount, call drive.mount(\"/content/drive\", force_remount=True).\n"
          ]
        },
        {
          "output_type": "execute_result",
          "data": {
            "text/plain": [
              "                 id                                       comment_text  toxic  \\\n",
              "0  0000997932d777bf  Explanation\\nWhy the edits made under my usern...      0   \n",
              "1  000103f0d9cfb60f  D'aww! He matches this background colour I'm s...      0   \n",
              "2  000113f07ec002fd  Hey man, I'm really not trying to edit war. It...      0   \n",
              "3  0001b41b1c6bb37e  \"\\nMore\\nI can't make any real suggestions on ...      0   \n",
              "4  0001d958c54c6e35  You, sir, are my hero. Any chance you remember...      0   \n",
              "\n",
              "   severe_toxic  obscene  threat  insult  identity_hate  \n",
              "0             0        0       0       0              0  \n",
              "1             0        0       0       0              0  \n",
              "2             0        0       0       0              0  \n",
              "3             0        0       0       0              0  \n",
              "4             0        0       0       0              0  "
            ],
            "text/html": [
              "\n",
              "  <div id=\"df-a18690a4-ef1f-4a3c-ae62-4abbaf8c9ff1\">\n",
              "    <div class=\"colab-df-container\">\n",
              "      <div>\n",
              "<style scoped>\n",
              "    .dataframe tbody tr th:only-of-type {\n",
              "        vertical-align: middle;\n",
              "    }\n",
              "\n",
              "    .dataframe tbody tr th {\n",
              "        vertical-align: top;\n",
              "    }\n",
              "\n",
              "    .dataframe thead th {\n",
              "        text-align: right;\n",
              "    }\n",
              "</style>\n",
              "<table border=\"1\" class=\"dataframe\">\n",
              "  <thead>\n",
              "    <tr style=\"text-align: right;\">\n",
              "      <th></th>\n",
              "      <th>id</th>\n",
              "      <th>comment_text</th>\n",
              "      <th>toxic</th>\n",
              "      <th>severe_toxic</th>\n",
              "      <th>obscene</th>\n",
              "      <th>threat</th>\n",
              "      <th>insult</th>\n",
              "      <th>identity_hate</th>\n",
              "    </tr>\n",
              "  </thead>\n",
              "  <tbody>\n",
              "    <tr>\n",
              "      <th>0</th>\n",
              "      <td>0000997932d777bf</td>\n",
              "      <td>Explanation\\nWhy the edits made under my usern...</td>\n",
              "      <td>0</td>\n",
              "      <td>0</td>\n",
              "      <td>0</td>\n",
              "      <td>0</td>\n",
              "      <td>0</td>\n",
              "      <td>0</td>\n",
              "    </tr>\n",
              "    <tr>\n",
              "      <th>1</th>\n",
              "      <td>000103f0d9cfb60f</td>\n",
              "      <td>D'aww! He matches this background colour I'm s...</td>\n",
              "      <td>0</td>\n",
              "      <td>0</td>\n",
              "      <td>0</td>\n",
              "      <td>0</td>\n",
              "      <td>0</td>\n",
              "      <td>0</td>\n",
              "    </tr>\n",
              "    <tr>\n",
              "      <th>2</th>\n",
              "      <td>000113f07ec002fd</td>\n",
              "      <td>Hey man, I'm really not trying to edit war. It...</td>\n",
              "      <td>0</td>\n",
              "      <td>0</td>\n",
              "      <td>0</td>\n",
              "      <td>0</td>\n",
              "      <td>0</td>\n",
              "      <td>0</td>\n",
              "    </tr>\n",
              "    <tr>\n",
              "      <th>3</th>\n",
              "      <td>0001b41b1c6bb37e</td>\n",
              "      <td>\"\\nMore\\nI can't make any real suggestions on ...</td>\n",
              "      <td>0</td>\n",
              "      <td>0</td>\n",
              "      <td>0</td>\n",
              "      <td>0</td>\n",
              "      <td>0</td>\n",
              "      <td>0</td>\n",
              "    </tr>\n",
              "    <tr>\n",
              "      <th>4</th>\n",
              "      <td>0001d958c54c6e35</td>\n",
              "      <td>You, sir, are my hero. Any chance you remember...</td>\n",
              "      <td>0</td>\n",
              "      <td>0</td>\n",
              "      <td>0</td>\n",
              "      <td>0</td>\n",
              "      <td>0</td>\n",
              "      <td>0</td>\n",
              "    </tr>\n",
              "  </tbody>\n",
              "</table>\n",
              "</div>\n",
              "      <button class=\"colab-df-convert\" onclick=\"convertToInteractive('df-a18690a4-ef1f-4a3c-ae62-4abbaf8c9ff1')\"\n",
              "              title=\"Convert this dataframe to an interactive table.\"\n",
              "              style=\"display:none;\">\n",
              "        \n",
              "  <svg xmlns=\"http://www.w3.org/2000/svg\" height=\"24px\"viewBox=\"0 0 24 24\"\n",
              "       width=\"24px\">\n",
              "    <path d=\"M0 0h24v24H0V0z\" fill=\"none\"/>\n",
              "    <path d=\"M18.56 5.44l.94 2.06.94-2.06 2.06-.94-2.06-.94-.94-2.06-.94 2.06-2.06.94zm-11 1L8.5 8.5l.94-2.06 2.06-.94-2.06-.94L8.5 2.5l-.94 2.06-2.06.94zm10 10l.94 2.06.94-2.06 2.06-.94-2.06-.94-.94-2.06-.94 2.06-2.06.94z\"/><path d=\"M17.41 7.96l-1.37-1.37c-.4-.4-.92-.59-1.43-.59-.52 0-1.04.2-1.43.59L10.3 9.45l-7.72 7.72c-.78.78-.78 2.05 0 2.83L4 21.41c.39.39.9.59 1.41.59.51 0 1.02-.2 1.41-.59l7.78-7.78 2.81-2.81c.8-.78.8-2.07 0-2.86zM5.41 20L4 18.59l7.72-7.72 1.47 1.35L5.41 20z\"/>\n",
              "  </svg>\n",
              "      </button>\n",
              "      \n",
              "  <style>\n",
              "    .colab-df-container {\n",
              "      display:flex;\n",
              "      flex-wrap:wrap;\n",
              "      gap: 12px;\n",
              "    }\n",
              "\n",
              "    .colab-df-convert {\n",
              "      background-color: #E8F0FE;\n",
              "      border: none;\n",
              "      border-radius: 50%;\n",
              "      cursor: pointer;\n",
              "      display: none;\n",
              "      fill: #1967D2;\n",
              "      height: 32px;\n",
              "      padding: 0 0 0 0;\n",
              "      width: 32px;\n",
              "    }\n",
              "\n",
              "    .colab-df-convert:hover {\n",
              "      background-color: #E2EBFA;\n",
              "      box-shadow: 0px 1px 2px rgba(60, 64, 67, 0.3), 0px 1px 3px 1px rgba(60, 64, 67, 0.15);\n",
              "      fill: #174EA6;\n",
              "    }\n",
              "\n",
              "    [theme=dark] .colab-df-convert {\n",
              "      background-color: #3B4455;\n",
              "      fill: #D2E3FC;\n",
              "    }\n",
              "\n",
              "    [theme=dark] .colab-df-convert:hover {\n",
              "      background-color: #434B5C;\n",
              "      box-shadow: 0px 1px 3px 1px rgba(0, 0, 0, 0.15);\n",
              "      filter: drop-shadow(0px 1px 2px rgba(0, 0, 0, 0.3));\n",
              "      fill: #FFFFFF;\n",
              "    }\n",
              "  </style>\n",
              "\n",
              "      <script>\n",
              "        const buttonEl =\n",
              "          document.querySelector('#df-a18690a4-ef1f-4a3c-ae62-4abbaf8c9ff1 button.colab-df-convert');\n",
              "        buttonEl.style.display =\n",
              "          google.colab.kernel.accessAllowed ? 'block' : 'none';\n",
              "\n",
              "        async function convertToInteractive(key) {\n",
              "          const element = document.querySelector('#df-a18690a4-ef1f-4a3c-ae62-4abbaf8c9ff1');\n",
              "          const dataTable =\n",
              "            await google.colab.kernel.invokeFunction('convertToInteractive',\n",
              "                                                     [key], {});\n",
              "          if (!dataTable) return;\n",
              "\n",
              "          const docLinkHtml = 'Like what you see? Visit the ' +\n",
              "            '<a target=\"_blank\" href=https://colab.research.google.com/notebooks/data_table.ipynb>data table notebook</a>'\n",
              "            + ' to learn more about interactive tables.';\n",
              "          element.innerHTML = '';\n",
              "          dataTable['output_type'] = 'display_data';\n",
              "          await google.colab.output.renderOutput(dataTable, element);\n",
              "          const docLink = document.createElement('div');\n",
              "          docLink.innerHTML = docLinkHtml;\n",
              "          element.appendChild(docLink);\n",
              "        }\n",
              "      </script>\n",
              "    </div>\n",
              "  </div>\n",
              "  "
            ]
          },
          "metadata": {},
          "execution_count": 8
        }
      ],
      "source": [
        "import pandas as pd\n",
        "\n",
        "from google.colab import drive\n",
        "drive.mount('/content/drive')\n",
        "\n",
        "train_df = pd.read_csv('/content/drive/My Drive/train.csv')\n",
        "test_df = pd.read_csv('/content/drive/My Drive/test.csv')\n",
        "train_df.head()"
      ]
    },
    {
      "cell_type": "markdown",
      "source": [
        "# **Text Preprocessing and Feature Engineering**"
      ],
      "metadata": {
        "id": "UXW7nqxRk6mt"
      }
    },
    {
      "cell_type": "code",
      "source": [
        "import re\n",
        "from sklearn.feature_extraction.text import TfidfVectorizer\n",
        "from sklearn.model_selection import train_test_split\n",
        "\n",
        "# Define the target labels\n",
        "labels = ['toxic', 'severe_toxic', 'obscene', 'threat', 'insult', 'identity_hate']\n",
        "\n",
        "# Define the features\n",
        "features = ['comment_text']\n",
        "\n",
        "# Combine the training and test data\n",
        "data_df = pd.concat([train_df[features], test_df[features]], axis=0)\n",
        "\n",
        "\n",
        "def clean_text(text):\n",
        "    # Remove non-alphabetic characters\n",
        "    text = re.sub(r'[^a-zA-Z]', ' ', text)\n",
        "    # Convert to lowercase\n",
        "    text = text.lower()\n",
        "    return text\n",
        "\n",
        "# Clean the text data\n",
        "data_df['comment_text'] = data_df['comment_text'].apply(lambda x: clean_text(x))\n",
        "\n",
        "# Convert the text data to numerical features\n",
        "vectorizer = TfidfVectorizer()\n",
        "features_tfidf = vectorizer.fit_transform(data_df['comment_text'])\n",
        "\n",
        "# Split the data back into training and test sets\n",
        "train_features = features_tfidf[:train_df.shape[0]]\n",
        "test_features = features_tfidf[train_df.shape[0]:]\n",
        "train_labels = train_df[labels]\n",
        "\n",
        "X_train, X_valid, y_train, y_valid = train_test_split(train_features, train_labels, test_size=0.2, random_state=42)\n",
        "\n"
      ],
      "metadata": {
        "id": "TVWkZdvOIurO"
      },
      "execution_count": null,
      "outputs": []
    },
    {
      "cell_type": "markdown",
      "source": [
        "# **Model Training, Fine-tuning, and Evaluation using XGBoost and Sklearn Metrics**"
      ],
      "metadata": {
        "id": "U2lD5eZXmNjj"
      }
    },
    {
      "cell_type": "code",
      "source": [
        "from sklearn.metrics import precision_score, recall_score, f1_score\n",
        "import xgboost as xgb\n",
        "\n",
        "# Train the XGBoost model\n",
        "xgb_classifier = xgb.XGBClassifier()\n",
        "xgb_classifier.fit(X_train, y_train)\n",
        "\n",
        "# Fine-tune the model by retraining with additional data\n",
        "xgb_classifier.fit(train_features, train_labels)\n",
        "\n",
        "# Make predictions on the test data\n",
        "test_predictions = xgb_classifier.predict(test_features)\n",
        "\n",
        "# Evaluate the performance of the model\n",
        "for i, label in enumerate(labels):\n",
        "    precision = precision_score(y_valid[label], xgb_classifier.predict(X_valid)[:,i])\n",
        "    recall = recall_score(y_valid[label], xgb_classifier.predict(X_valid)[:,i])\n",
        "    f1 = f1_score(y_valid[label], xgb_classifier.predict(X_valid)[:,i])\n",
        "    print(f\"Category: {label}\\nPrecision: {precision}\\nRecall: {recall}\\nF1 Score: {f1}\\n\")\n"
      ],
      "metadata": {
        "id": "JeNXzlfYk1Ih",
        "colab": {
          "base_uri": "https://localhost:8080/"
        },
        "outputId": "c1b1e353-272f-492b-db59-8b452f557757"
      },
      "execution_count": null,
      "outputs": [
        {
          "output_type": "stream",
          "name": "stdout",
          "text": [
            "Category: toxic\n",
            "Precision: 0.967741935483871\n",
            "Recall: 0.68717277486911\n",
            "F1 Score: 0.8036739380022961\n",
            "\n",
            "Category: severe_toxic\n",
            "Precision: 0.9166666666666666\n",
            "Recall: 0.5482866043613707\n",
            "F1 Score: 0.6861598440545809\n",
            "\n",
            "Category: obscene\n",
            "Precision: 0.9476987447698745\n",
            "Recall: 0.7924198250728863\n",
            "F1 Score: 0.8631311527469038\n",
            "\n",
            "Category: threat\n",
            "Precision: 0.9491525423728814\n",
            "Recall: 0.7567567567567568\n",
            "F1 Score: 0.8421052631578948\n",
            "\n",
            "Category: insult\n",
            "Precision: 0.9217970049916805\n",
            "Recall: 0.6864931846344485\n",
            "F1 Score: 0.7869318181818181\n",
            "\n",
            "Category: identity_hate\n",
            "Precision: 0.9595375722543352\n",
            "Recall: 0.564625850340136\n",
            "F1 Score: 0.7109207708779444\n",
            "\n"
          ]
        }
      ]
    },
    {
      "cell_type": "markdown",
      "source": [
        "# **Generating Predictions and Creating a Submission File**"
      ],
      "metadata": {
        "id": "ee4HFjUim27b"
      }
    },
    {
      "cell_type": "code",
      "source": [
        "from xgboost import XGBClassifier\n",
        "\n",
        "# Make predictions on the test set\n",
        "test_pred_proba = xgb_classifier.predict_proba(test_features)\n",
        "\n",
        "# Create a submission DataFrame with the predicted probabilities\n",
        "submission_df = pd.DataFrame(test_pred_proba, columns=labels)\n",
        "\n",
        "# Add the id column from the test data to the submission DataFrame\n",
        "submission_df['id'] = test_df['id']\n",
        "\n",
        "# Reorder the columns so that id is the first column, followed by the target labels\n",
        "submission_df = submission_df[['id'] + labels]\n",
        "\n",
        "# Save the submission DataFrame to a CSV file\n",
        "submission_df.to_csv('submission.csv', index=False)\n",
        "\n"
      ],
      "metadata": {
        "id": "Z_iqs0T6mwBg"
      },
      "execution_count": null,
      "outputs": []
    },
    {
      "cell_type": "markdown",
      "source": [
        "# **Saving the trained XGBoost model to a file**"
      ],
      "metadata": {
        "id": "zAFL7PkjmiCW"
      }
    },
    {
      "cell_type": "code",
      "source": [
        "import pickle\n",
        "\n",
        "# Save the trained model to a file\n",
        "with open('xgb_classifier.pkl', 'wb') as f:\n",
        "    pickle.dump(xgb_classifier, f)\n"
      ],
      "metadata": {
        "id": "mN-rofm6Mmz1"
      },
      "execution_count": null,
      "outputs": []
    },
    {
      "cell_type": "markdown",
      "source": [
        "# **Saving Trained Vectorizer to Pickle**"
      ],
      "metadata": {
        "id": "Z_fTDWHlllDj"
      }
    },
    {
      "cell_type": "code",
      "source": [
        "import pickle\n",
        "\n",
        "# Convert the text data to numerical features\n",
        "vectorizer = TfidfVectorizer()\n",
        "features_tfidf = vectorizer.fit_transform(data_df['comment_text'])\n",
        "\n",
        "# Save the trained vectorizer to a file\n",
        "with open('vectorizer.pkl', 'wb') as f:\n",
        "    pickle.dump(vectorizer, f)\n"
      ],
      "metadata": {
        "id": "eSdhaKHUiNkT"
      },
      "execution_count": null,
      "outputs": []
    },
    {
      "cell_type": "markdown",
      "source": [
        "# Here is a link to my deployed model below\n",
        "\n",
        "[click this](https://ayo-folashade-nlp-text-classification-streamlit-app-1ds89h.streamlit.app/)"
      ],
      "metadata": {
        "id": "vBwLYMQ_ofb2"
      }
    }
  ]
}